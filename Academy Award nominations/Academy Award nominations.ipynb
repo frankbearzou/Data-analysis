{
 "cells": [
  {
   "cell_type": "code",
   "execution_count": 1,
   "metadata": {
    "collapsed": true
   },
   "outputs": [],
   "source": [
    "import re\n",
    "import numpy as np\n",
    "import pandas as pd\n",
    "import sqlite3"
   ]
  },
  {
   "cell_type": "markdown",
   "metadata": {},
   "source": [
    "# Data Exploration"
   ]
  },
  {
   "cell_type": "markdown",
   "metadata": {},
   "source": [
    "### Load dataset `Oscar Nominees and Winners`."
   ]
  },
  {
   "cell_type": "code",
   "execution_count": 2,
   "metadata": {
    "collapsed": false
   },
   "outputs": [],
   "source": [
    "df = pd.read_csv('academy_awards.csv', encoding='ISO-8859-1')"
   ]
  },
  {
   "cell_type": "code",
   "execution_count": 3,
   "metadata": {
    "collapsed": false,
    "scrolled": true
   },
   "outputs": [
    {
     "data": {
      "text/html": [
       "<div>\n",
       "<table border=\"1\" class=\"dataframe\">\n",
       "  <thead>\n",
       "    <tr style=\"text-align: right;\">\n",
       "      <th></th>\n",
       "      <th>Year</th>\n",
       "      <th>Category</th>\n",
       "      <th>Nominee</th>\n",
       "      <th>Additional Info</th>\n",
       "      <th>Won?</th>\n",
       "      <th>Unnamed: 5</th>\n",
       "      <th>Unnamed: 6</th>\n",
       "      <th>Unnamed: 7</th>\n",
       "      <th>Unnamed: 8</th>\n",
       "      <th>Unnamed: 9</th>\n",
       "      <th>Unnamed: 10</th>\n",
       "    </tr>\n",
       "  </thead>\n",
       "  <tbody>\n",
       "    <tr>\n",
       "      <th>0</th>\n",
       "      <td>2010 (83rd)</td>\n",
       "      <td>Actor -- Leading Role</td>\n",
       "      <td>Javier Bardem</td>\n",
       "      <td>Biutiful {'Uxbal'}</td>\n",
       "      <td>NO</td>\n",
       "      <td>NaN</td>\n",
       "      <td>NaN</td>\n",
       "      <td>NaN</td>\n",
       "      <td>NaN</td>\n",
       "      <td>NaN</td>\n",
       "      <td>NaN</td>\n",
       "    </tr>\n",
       "    <tr>\n",
       "      <th>1</th>\n",
       "      <td>2010 (83rd)</td>\n",
       "      <td>Actor -- Leading Role</td>\n",
       "      <td>Jeff Bridges</td>\n",
       "      <td>True Grit {'Rooster Cogburn'}</td>\n",
       "      <td>NO</td>\n",
       "      <td>NaN</td>\n",
       "      <td>NaN</td>\n",
       "      <td>NaN</td>\n",
       "      <td>NaN</td>\n",
       "      <td>NaN</td>\n",
       "      <td>NaN</td>\n",
       "    </tr>\n",
       "    <tr>\n",
       "      <th>2</th>\n",
       "      <td>2010 (83rd)</td>\n",
       "      <td>Actor -- Leading Role</td>\n",
       "      <td>Jesse Eisenberg</td>\n",
       "      <td>The Social Network {'Mark Zuckerberg'}</td>\n",
       "      <td>NO</td>\n",
       "      <td>NaN</td>\n",
       "      <td>NaN</td>\n",
       "      <td>NaN</td>\n",
       "      <td>NaN</td>\n",
       "      <td>NaN</td>\n",
       "      <td>NaN</td>\n",
       "    </tr>\n",
       "    <tr>\n",
       "      <th>3</th>\n",
       "      <td>2010 (83rd)</td>\n",
       "      <td>Actor -- Leading Role</td>\n",
       "      <td>Colin Firth</td>\n",
       "      <td>The King's Speech {'King George VI'}</td>\n",
       "      <td>YES</td>\n",
       "      <td>NaN</td>\n",
       "      <td>NaN</td>\n",
       "      <td>NaN</td>\n",
       "      <td>NaN</td>\n",
       "      <td>NaN</td>\n",
       "      <td>NaN</td>\n",
       "    </tr>\n",
       "    <tr>\n",
       "      <th>4</th>\n",
       "      <td>2010 (83rd)</td>\n",
       "      <td>Actor -- Leading Role</td>\n",
       "      <td>James Franco</td>\n",
       "      <td>127 Hours {'Aron Ralston'}</td>\n",
       "      <td>NO</td>\n",
       "      <td>NaN</td>\n",
       "      <td>NaN</td>\n",
       "      <td>NaN</td>\n",
       "      <td>NaN</td>\n",
       "      <td>NaN</td>\n",
       "      <td>NaN</td>\n",
       "    </tr>\n",
       "  </tbody>\n",
       "</table>\n",
       "</div>"
      ],
      "text/plain": [
       "          Year               Category          Nominee  \\\n",
       "0  2010 (83rd)  Actor -- Leading Role    Javier Bardem   \n",
       "1  2010 (83rd)  Actor -- Leading Role     Jeff Bridges   \n",
       "2  2010 (83rd)  Actor -- Leading Role  Jesse Eisenberg   \n",
       "3  2010 (83rd)  Actor -- Leading Role      Colin Firth   \n",
       "4  2010 (83rd)  Actor -- Leading Role     James Franco   \n",
       "\n",
       "                          Additional Info Won? Unnamed: 5 Unnamed: 6  \\\n",
       "0                      Biutiful {'Uxbal'}   NO        NaN        NaN   \n",
       "1           True Grit {'Rooster Cogburn'}   NO        NaN        NaN   \n",
       "2  The Social Network {'Mark Zuckerberg'}   NO        NaN        NaN   \n",
       "3    The King's Speech {'King George VI'}  YES        NaN        NaN   \n",
       "4              127 Hours {'Aron Ralston'}   NO        NaN        NaN   \n",
       "\n",
       "  Unnamed: 7 Unnamed: 8 Unnamed: 9 Unnamed: 10  \n",
       "0        NaN        NaN        NaN         NaN  \n",
       "1        NaN        NaN        NaN         NaN  \n",
       "2        NaN        NaN        NaN         NaN  \n",
       "3        NaN        NaN        NaN         NaN  \n",
       "4        NaN        NaN        NaN         NaN  "
      ]
     },
     "execution_count": 3,
     "metadata": {},
     "output_type": "execute_result"
    }
   ],
   "source": [
    "df.head()"
   ]
  },
  {
   "cell_type": "markdown",
   "metadata": {},
   "source": [
    "### There are 6 unnamed columns at the end. We want to check if any of them have valid values that we need."
   ]
  },
  {
   "cell_type": "code",
   "execution_count": 4,
   "metadata": {
    "collapsed": false,
    "scrolled": false
   },
   "outputs": [
    {
     "data": {
      "text/plain": [
       "*                                                                                                               7\n",
       " error-prone measurements on sets. [Digital Imaging Technology]\"                                                1\n",
       " discoverer of stars                                                                                            1\n",
       " D.B. \"Don\" Keele and Mark E. Engebretson has resulted in the over 20-year dominance of constant-directivity    1\n",
       " resilience                                                                                                     1\n",
       "Name: Unnamed: 5, dtype: int64"
      ]
     },
     "execution_count": 4,
     "metadata": {},
     "output_type": "execute_result"
    }
   ],
   "source": [
    "df['Unnamed: 5'].value_counts()"
   ]
  },
  {
   "cell_type": "code",
   "execution_count": 5,
   "metadata": {
    "collapsed": false
   },
   "outputs": [
    {
     "data": {
      "text/plain": [
       "*                                                                   9\n",
       " direct radiator bass style cinema loudspeaker systems. [Sound]\"    1\n",
       " sympathetic                                                        1\n",
       " flexibility and water resistance                                   1\n",
       "Name: Unnamed: 6, dtype: int64"
      ]
     },
     "execution_count": 5,
     "metadata": {},
     "output_type": "execute_result"
    }
   ],
   "source": [
    "df['Unnamed: 6'].value_counts()"
   ]
  },
  {
   "cell_type": "code",
   "execution_count": 6,
   "metadata": {
    "collapsed": false
   },
   "outputs": [
    {
     "data": {
      "text/plain": [
       " while requiring no dangerous solvents. [Systems]\"    1\n",
       " kindly                                               1\n",
       "*                                                     1\n",
       "Name: Unnamed: 7, dtype: int64"
      ]
     },
     "execution_count": 6,
     "metadata": {},
     "output_type": "execute_result"
    }
   ],
   "source": [
    "df['Unnamed: 7'].value_counts()"
   ]
  },
  {
   "cell_type": "code",
   "execution_count": 7,
   "metadata": {
    "collapsed": false
   },
   "outputs": [
    {
     "data": {
      "text/plain": [
       " understanding comedy genius - Mack Sennett.\"\"    1\n",
       "*                                                 1\n",
       "Name: Unnamed: 8, dtype: int64"
      ]
     },
     "execution_count": 7,
     "metadata": {},
     "output_type": "execute_result"
    }
   ],
   "source": [
    "df['Unnamed: 8'].value_counts()"
   ]
  },
  {
   "cell_type": "code",
   "execution_count": 8,
   "metadata": {
    "collapsed": false
   },
   "outputs": [
    {
     "data": {
      "text/plain": [
       "*    1\n",
       "Name: Unnamed: 9, dtype: int64"
      ]
     },
     "execution_count": 8,
     "metadata": {},
     "output_type": "execute_result"
    }
   ],
   "source": [
    "df['Unnamed: 9'].value_counts()"
   ]
  },
  {
   "cell_type": "code",
   "execution_count": 9,
   "metadata": {
    "collapsed": false
   },
   "outputs": [
    {
     "data": {
      "text/plain": [
       "*    1\n",
       "Name: Unnamed: 10, dtype: int64"
      ]
     },
     "execution_count": 9,
     "metadata": {},
     "output_type": "execute_result"
    }
   ],
   "source": [
    "df['Unnamed: 10'].value_counts()"
   ]
  },
  {
   "cell_type": "markdown",
   "metadata": {},
   "source": [
    "### `Additional Info` column contains a few different formatting styles. We are going to clean this column."
   ]
  },
  {
   "cell_type": "code",
   "execution_count": 10,
   "metadata": {
    "collapsed": false
   },
   "outputs": [
    {
     "data": {
      "text/plain": [
       "Metro-Goldwyn-Mayer                                                                                                   60\n",
       "Walt Disney, Producer                                                                                                 57\n",
       "Warner Bros.                                                                                                          42\n",
       "John Williams                                                                                                         37\n",
       "France                                                                                                                35\n",
       "Alfred Newman                                                                                                         34\n",
       "Italy                                                                                                                 26\n",
       "Paramount                                                                                                             24\n",
       "Gordon Hollingshead, Producer                                                                                         22\n",
       "Edith Head                                                                                                            22\n",
       "20th Century-Fox                                                                                                      20\n",
       "RKO Radio                                                                                                             20\n",
       "Victor Young                                                                                                          19\n",
       "Spain                                                                                                                 19\n",
       "Leon Shamroy                                                                                                          17\n",
       "Max Steiner                                                                                                           16\n",
       "Woody Allen                                                                                                           16\n",
       "Jerry Goldsmith                                                                                                       16\n",
       "Metro-Goldwyn-Mayer Studio Sound Department, Douglas Shearer, Sound Director                                          15\n",
       "Alex North                                                                                                            14\n",
       "Sweden                                                                                                                14\n",
       "Miklos Rozsa                                                                                                          14\n",
       "Columbia                                                                                                              13\n",
       "Columbia Studio Sound Department, John Livadary, Sound Director                                                       13\n",
       "Dimitri Tiomkin                                                                                                       13\n",
       "Pete Smith, Producer                                                                                                  13\n",
       "William Wyler                                                                                                         12\n",
       "Jean Louis                                                                                                            12\n",
       "Robert Surtees                                                                                                        12\n",
       "Music and Lyric by Randy Newman                                                                                       12\n",
       "                                                                                                                      ..\n",
       "Four Daughters {'Mickey Borden'}                                                                                       1\n",
       "The Former Yugoslav Republic of Macedonia                                                                              1\n",
       "Art Direction: Jack Martin Smith, Dale Hennesy; Set Decoration: Walter M. Scott, Stuart A. Reiss                       1\n",
       "Ragtime {'Coalhouse Walker, Jr.'}                                                                                      1\n",
       "Charles Brackett, Walter Reisch, Richard Breen                                                                         1\n",
       "Steve Shagan, David Butler                                                                                             1\n",
       "The Royal Family of Broadway {'Tony Cavendish'}                                                                        1\n",
       "Dead Man Walking {'Sister Helen Prejean'}                                                                              1\n",
       "Richard Connell, Robert Presnell                                                                                       1\n",
       "Charles Walters                                                                                                        1\n",
       "Saratoga Trunk {'Angelique Buiton'}                                                                                    1\n",
       "Tom Myers, Michael Semanick and Ben Burtt                                                                              1\n",
       "James B. Clark                                                                                                         1\n",
       "Marvin's Room {'Bessie'}                                                                                               1\n",
       "James Longley                                                                                                          1\n",
       "Room at the Top {'Elspeth'}                                                                                            1\n",
       "Do the Right Thing {'Sal'}                                                                                             1\n",
       "Søren Pilmark and Kim Magnusson                                                                                        1\n",
       "I Want to Live! {'Barbara Graham'}                                                                                     1\n",
       "Art Direction: John Myhre; Set Decoration: Peter Howitt                                                                1\n",
       "Smash-Up--The Story of a Woman {'Angie'}                                                                               1\n",
       "Production Design: Robert Stromberg; Set Decoration: Karen O'Hara                                                      1\n",
       "Denmark; O. Dalsgaard-Olsen, Producer                                                                                  1\n",
       "Art Direction: Malcolm Bert; Set Decoration: George James Hopkins                                                      1\n",
       "Art Direction: Lyle R. Wheeler, Franz Bachelin, Herman A. Blumenthal; Set Decoration: Walter M. Scott, Joseph Kish     1\n",
       "Arthur Piantadosi, Les Fresholtz, Richard Tyler, Al Overton, Jr.                                                       1\n",
       "Scott E. Anderson, Craig Hayes, Scott Stokdyk, Stan Parks                                                              1\n",
       "Written by Robert Pulcini & Shari Springer Berman                                                                      1\n",
       "The Quiet Man {'Red Will Danaher'}                                                                                     1\n",
       "Elmer Gantry {'Lulu Bains'}                                                                                            1\n",
       "Name: Additional Info, dtype: int64"
      ]
     },
     "execution_count": 10,
     "metadata": {},
     "output_type": "execute_result"
    }
   ],
   "source": [
    "df['Additional Info'].value_counts()"
   ]
  },
  {
   "cell_type": "markdown",
   "metadata": {},
   "source": [
    "# Data Cleaning"
   ]
  },
  {
   "cell_type": "markdown",
   "metadata": {},
   "source": [
    "### Deleting useless columns."
   ]
  },
  {
   "cell_type": "code",
   "execution_count": 11,
   "metadata": {
    "collapsed": false
   },
   "outputs": [],
   "source": [
    "del_columns = ['Unnamed: 5', 'Unnamed: 6', 'Unnamed: 7', 'Unnamed: 8', 'Unnamed: 9', 'Unnamed: 10', ]\n",
    "df = df.drop(del_columns, axis=1)"
   ]
  },
  {
   "cell_type": "markdown",
   "metadata": {},
   "source": [
    "### Some String have pattern like {'name'}, we need to extract `name`."
   ]
  },
  {
   "cell_type": "code",
   "execution_count": 12,
   "metadata": {
    "collapsed": true
   },
   "outputs": [],
   "source": [
    "def get_movie_name(row):\n",
    "    if pd.notnull(row):\n",
    "        return str(row).split('{\\'')[0]"
   ]
  },
  {
   "cell_type": "code",
   "execution_count": 13,
   "metadata": {
    "collapsed": true
   },
   "outputs": [],
   "source": [
    "def get_character(row):\n",
    "    if pd.notnull(row):\n",
    "        res = str(row).split('{\\'')\n",
    "        if len(res) == 2:\n",
    "            return res[1].rstrip('}\\'')"
   ]
  },
  {
   "cell_type": "code",
   "execution_count": 14,
   "metadata": {
    "collapsed": true
   },
   "outputs": [],
   "source": [
    "df['Movie'] = df['Additional Info'].apply(get_movie_name)"
   ]
  },
  {
   "cell_type": "code",
   "execution_count": 15,
   "metadata": {
    "collapsed": false,
    "scrolled": true
   },
   "outputs": [],
   "source": [
    "df['Character'] = df['Additional Info'].apply(get_character)"
   ]
  },
  {
   "cell_type": "code",
   "execution_count": 16,
   "metadata": {
    "collapsed": false
   },
   "outputs": [
    {
     "data": {
      "text/html": [
       "<div>\n",
       "<table border=\"1\" class=\"dataframe\">\n",
       "  <thead>\n",
       "    <tr style=\"text-align: right;\">\n",
       "      <th></th>\n",
       "      <th>Year</th>\n",
       "      <th>Category</th>\n",
       "      <th>Nominee</th>\n",
       "      <th>Additional Info</th>\n",
       "      <th>Won?</th>\n",
       "      <th>Movie</th>\n",
       "      <th>Character</th>\n",
       "    </tr>\n",
       "  </thead>\n",
       "  <tbody>\n",
       "    <tr>\n",
       "      <th>0</th>\n",
       "      <td>2010 (83rd)</td>\n",
       "      <td>Actor -- Leading Role</td>\n",
       "      <td>Javier Bardem</td>\n",
       "      <td>Biutiful {'Uxbal'}</td>\n",
       "      <td>NO</td>\n",
       "      <td>Biutiful</td>\n",
       "      <td>Uxbal</td>\n",
       "    </tr>\n",
       "    <tr>\n",
       "      <th>1</th>\n",
       "      <td>2010 (83rd)</td>\n",
       "      <td>Actor -- Leading Role</td>\n",
       "      <td>Jeff Bridges</td>\n",
       "      <td>True Grit {'Rooster Cogburn'}</td>\n",
       "      <td>NO</td>\n",
       "      <td>True Grit</td>\n",
       "      <td>Rooster Cogburn</td>\n",
       "    </tr>\n",
       "    <tr>\n",
       "      <th>2</th>\n",
       "      <td>2010 (83rd)</td>\n",
       "      <td>Actor -- Leading Role</td>\n",
       "      <td>Jesse Eisenberg</td>\n",
       "      <td>The Social Network {'Mark Zuckerberg'}</td>\n",
       "      <td>NO</td>\n",
       "      <td>The Social Network</td>\n",
       "      <td>Mark Zuckerberg</td>\n",
       "    </tr>\n",
       "    <tr>\n",
       "      <th>3</th>\n",
       "      <td>2010 (83rd)</td>\n",
       "      <td>Actor -- Leading Role</td>\n",
       "      <td>Colin Firth</td>\n",
       "      <td>The King's Speech {'King George VI'}</td>\n",
       "      <td>YES</td>\n",
       "      <td>The King's Speech</td>\n",
       "      <td>King George VI</td>\n",
       "    </tr>\n",
       "    <tr>\n",
       "      <th>4</th>\n",
       "      <td>2010 (83rd)</td>\n",
       "      <td>Actor -- Leading Role</td>\n",
       "      <td>James Franco</td>\n",
       "      <td>127 Hours {'Aron Ralston'}</td>\n",
       "      <td>NO</td>\n",
       "      <td>127 Hours</td>\n",
       "      <td>Aron Ralston</td>\n",
       "    </tr>\n",
       "  </tbody>\n",
       "</table>\n",
       "</div>"
      ],
      "text/plain": [
       "          Year               Category          Nominee  \\\n",
       "0  2010 (83rd)  Actor -- Leading Role    Javier Bardem   \n",
       "1  2010 (83rd)  Actor -- Leading Role     Jeff Bridges   \n",
       "2  2010 (83rd)  Actor -- Leading Role  Jesse Eisenberg   \n",
       "3  2010 (83rd)  Actor -- Leading Role      Colin Firth   \n",
       "4  2010 (83rd)  Actor -- Leading Role     James Franco   \n",
       "\n",
       "                          Additional Info Won?                Movie  \\\n",
       "0                      Biutiful {'Uxbal'}   NO            Biutiful    \n",
       "1           True Grit {'Rooster Cogburn'}   NO           True Grit    \n",
       "2  The Social Network {'Mark Zuckerberg'}   NO  The Social Network    \n",
       "3    The King's Speech {'King George VI'}  YES   The King's Speech    \n",
       "4              127 Hours {'Aron Ralston'}   NO           127 Hours    \n",
       "\n",
       "         Character  \n",
       "0            Uxbal  \n",
       "1  Rooster Cogburn  \n",
       "2  Mark Zuckerberg  \n",
       "3   King George VI  \n",
       "4     Aron Ralston  "
      ]
     },
     "execution_count": 16,
     "metadata": {},
     "output_type": "execute_result"
    }
   ],
   "source": [
    "df.head()"
   ]
  },
  {
   "cell_type": "markdown",
   "metadata": {},
   "source": [
    "## What's the best way to handle awards ceremonies that included movies from 2 years?"
   ]
  },
  {
   "cell_type": "markdown",
   "metadata": {},
   "source": [
    "### E.g. see 1927/28 (1st) in the Year column."
   ]
  },
  {
   "cell_type": "code",
   "execution_count": 17,
   "metadata": {
    "collapsed": false
   },
   "outputs": [
    {
     "data": {
      "text/plain": [
       "Year                                                1927/28 (1st)\n",
       "Category           Unique and Artistic Picture (archaic category)\n",
       "Nominee                                    Paramount Famous Lasky\n",
       "Additional Info                                             Chang\n",
       "Won?                                                           NO\n",
       "Movie                                                       Chang\n",
       "Character                                                    None\n",
       "Name: 10136, dtype: object"
      ]
     },
     "execution_count": 17,
     "metadata": {},
     "output_type": "execute_result"
    }
   ],
   "source": [
    "df.iloc[10136]"
   ]
  },
  {
   "cell_type": "markdown",
   "metadata": {},
   "source": [
    "### Appending these data to the end. recording the previous row number."
   ]
  },
  {
   "cell_type": "code",
   "execution_count": 18,
   "metadata": {
    "collapsed": false
   },
   "outputs": [
    {
     "name": "stdout",
     "output_type": "stream",
     "text": [
      "10137\n"
     ]
    }
   ],
   "source": [
    "# last 10136\n",
    "total_row = df.shape[0]\n",
    "print(total_row)\n",
    "df = df.append( df[ (df['Year'].str.len() > 4) & (df['Year'].str.contains('/')) ], ignore_index=True)"
   ]
  },
  {
   "cell_type": "markdown",
   "metadata": {},
   "source": [
    "### Dealing with new data."
   ]
  },
  {
   "cell_type": "code",
   "execution_count": 19,
   "metadata": {
    "collapsed": true
   },
   "outputs": [],
   "source": [
    "for i in range(total_row, df.shape[0]):\n",
    "    search_year = re.search('(\\d{2})\\d{2}/(\\d{2})', df.iloc[i]['Year'])\n",
    "    if search_year:\n",
    "        df.iloc[i]['Year'] = search_year.group(1) + search_year.group(2)"
   ]
  },
  {
   "cell_type": "code",
   "execution_count": 20,
   "metadata": {
    "collapsed": false,
    "scrolled": false
   },
   "outputs": [
    {
     "data": {
      "text/html": [
       "<div>\n",
       "<table border=\"1\" class=\"dataframe\">\n",
       "  <thead>\n",
       "    <tr style=\"text-align: right;\">\n",
       "      <th></th>\n",
       "      <th>Year</th>\n",
       "      <th>Category</th>\n",
       "      <th>Nominee</th>\n",
       "      <th>Additional Info</th>\n",
       "      <th>Won?</th>\n",
       "      <th>Movie</th>\n",
       "      <th>Character</th>\n",
       "    </tr>\n",
       "  </thead>\n",
       "  <tbody>\n",
       "    <tr>\n",
       "      <th>10137</th>\n",
       "      <td>1933</td>\n",
       "      <td>Actor -- Leading Role</td>\n",
       "      <td>Leslie Howard</td>\n",
       "      <td>Berkeley Square {'Peter Standish'} [came in 3rd]</td>\n",
       "      <td>NO</td>\n",
       "      <td>Berkeley Square</td>\n",
       "      <td>Peter Standish'} [came in 3rd]</td>\n",
       "    </tr>\n",
       "    <tr>\n",
       "      <th>10138</th>\n",
       "      <td>1933</td>\n",
       "      <td>Actor -- Leading Role</td>\n",
       "      <td>Charles Laughton</td>\n",
       "      <td>The Private Life of Henry VIII {'Henry VIII'}</td>\n",
       "      <td>YES</td>\n",
       "      <td>The Private Life of Henry VIII</td>\n",
       "      <td>Henry VIII</td>\n",
       "    </tr>\n",
       "    <tr>\n",
       "      <th>10139</th>\n",
       "      <td>1933</td>\n",
       "      <td>Actor -- Leading Role</td>\n",
       "      <td>Paul Muni</td>\n",
       "      <td>I Am a Fugitive from a Chain Gang {'James Alle...</td>\n",
       "      <td>NO</td>\n",
       "      <td>I Am a Fugitive from a Chain Gang</td>\n",
       "      <td>James Allen'} [came in 2nd]</td>\n",
       "    </tr>\n",
       "    <tr>\n",
       "      <th>10140</th>\n",
       "      <td>1933</td>\n",
       "      <td>Actress -- Leading Role</td>\n",
       "      <td>Katharine Hepburn</td>\n",
       "      <td>Morning Glory {'Eva Lovelace'}</td>\n",
       "      <td>YES</td>\n",
       "      <td>Morning Glory</td>\n",
       "      <td>Eva Lovelace</td>\n",
       "    </tr>\n",
       "    <tr>\n",
       "      <th>10141</th>\n",
       "      <td>1933</td>\n",
       "      <td>Actress -- Leading Role</td>\n",
       "      <td>May Robson</td>\n",
       "      <td>Lady for a Day {'Apple Annie'} [came in 2nd]</td>\n",
       "      <td>NO</td>\n",
       "      <td>Lady for a Day</td>\n",
       "      <td>Apple Annie'} [came in 2nd]</td>\n",
       "    </tr>\n",
       "  </tbody>\n",
       "</table>\n",
       "</div>"
      ],
      "text/plain": [
       "       Year                 Category            Nominee  \\\n",
       "10137  1933    Actor -- Leading Role      Leslie Howard   \n",
       "10138  1933    Actor -- Leading Role   Charles Laughton   \n",
       "10139  1933    Actor -- Leading Role          Paul Muni   \n",
       "10140  1933  Actress -- Leading Role  Katharine Hepburn   \n",
       "10141  1933  Actress -- Leading Role         May Robson   \n",
       "\n",
       "                                         Additional Info Won?  \\\n",
       "10137   Berkeley Square {'Peter Standish'} [came in 3rd]   NO   \n",
       "10138      The Private Life of Henry VIII {'Henry VIII'}  YES   \n",
       "10139  I Am a Fugitive from a Chain Gang {'James Alle...   NO   \n",
       "10140                     Morning Glory {'Eva Lovelace'}  YES   \n",
       "10141       Lady for a Day {'Apple Annie'} [came in 2nd]   NO   \n",
       "\n",
       "                                    Movie                       Character  \n",
       "10137                    Berkeley Square   Peter Standish'} [came in 3rd]  \n",
       "10138     The Private Life of Henry VIII                       Henry VIII  \n",
       "10139  I Am a Fugitive from a Chain Gang      James Allen'} [came in 2nd]  \n",
       "10140                      Morning Glory                     Eva Lovelace  \n",
       "10141                     Lady for a Day      Apple Annie'} [came in 2nd]  "
      ]
     },
     "execution_count": 20,
     "metadata": {},
     "output_type": "execute_result"
    }
   ],
   "source": [
    "df[total_row:].head()"
   ]
  },
  {
   "cell_type": "markdown",
   "metadata": {},
   "source": [
    "### Dealing with old data. Just get the first four digits."
   ]
  },
  {
   "cell_type": "code",
   "execution_count": 21,
   "metadata": {
    "collapsed": true
   },
   "outputs": [],
   "source": [
    "df[\"Year\"] = df[\"Year\"].str[:4]"
   ]
  },
  {
   "cell_type": "markdown",
   "metadata": {},
   "source": [
    "### Convert the `Year` column to `int` data type."
   ]
  },
  {
   "cell_type": "code",
   "execution_count": 22,
   "metadata": {
    "collapsed": false
   },
   "outputs": [],
   "source": [
    "df['Year'] = df['Year'].astype(int)"
   ]
  },
  {
   "cell_type": "code",
   "execution_count": 23,
   "metadata": {
    "collapsed": false
   },
   "outputs": [
    {
     "data": {
      "text/html": [
       "<div>\n",
       "<table border=\"1\" class=\"dataframe\">\n",
       "  <thead>\n",
       "    <tr style=\"text-align: right;\">\n",
       "      <th></th>\n",
       "      <th>Year</th>\n",
       "      <th>Category</th>\n",
       "      <th>Nominee</th>\n",
       "      <th>Additional Info</th>\n",
       "      <th>Won?</th>\n",
       "      <th>Movie</th>\n",
       "      <th>Character</th>\n",
       "    </tr>\n",
       "  </thead>\n",
       "  <tbody>\n",
       "    <tr>\n",
       "      <th>0</th>\n",
       "      <td>2010</td>\n",
       "      <td>Actor -- Leading Role</td>\n",
       "      <td>Javier Bardem</td>\n",
       "      <td>Biutiful {'Uxbal'}</td>\n",
       "      <td>NO</td>\n",
       "      <td>Biutiful</td>\n",
       "      <td>Uxbal</td>\n",
       "    </tr>\n",
       "    <tr>\n",
       "      <th>1</th>\n",
       "      <td>2010</td>\n",
       "      <td>Actor -- Leading Role</td>\n",
       "      <td>Jeff Bridges</td>\n",
       "      <td>True Grit {'Rooster Cogburn'}</td>\n",
       "      <td>NO</td>\n",
       "      <td>True Grit</td>\n",
       "      <td>Rooster Cogburn</td>\n",
       "    </tr>\n",
       "    <tr>\n",
       "      <th>2</th>\n",
       "      <td>2010</td>\n",
       "      <td>Actor -- Leading Role</td>\n",
       "      <td>Jesse Eisenberg</td>\n",
       "      <td>The Social Network {'Mark Zuckerberg'}</td>\n",
       "      <td>NO</td>\n",
       "      <td>The Social Network</td>\n",
       "      <td>Mark Zuckerberg</td>\n",
       "    </tr>\n",
       "    <tr>\n",
       "      <th>3</th>\n",
       "      <td>2010</td>\n",
       "      <td>Actor -- Leading Role</td>\n",
       "      <td>Colin Firth</td>\n",
       "      <td>The King's Speech {'King George VI'}</td>\n",
       "      <td>YES</td>\n",
       "      <td>The King's Speech</td>\n",
       "      <td>King George VI</td>\n",
       "    </tr>\n",
       "    <tr>\n",
       "      <th>4</th>\n",
       "      <td>2010</td>\n",
       "      <td>Actor -- Leading Role</td>\n",
       "      <td>James Franco</td>\n",
       "      <td>127 Hours {'Aron Ralston'}</td>\n",
       "      <td>NO</td>\n",
       "      <td>127 Hours</td>\n",
       "      <td>Aron Ralston</td>\n",
       "    </tr>\n",
       "  </tbody>\n",
       "</table>\n",
       "</div>"
      ],
      "text/plain": [
       "   Year               Category          Nominee  \\\n",
       "0  2010  Actor -- Leading Role    Javier Bardem   \n",
       "1  2010  Actor -- Leading Role     Jeff Bridges   \n",
       "2  2010  Actor -- Leading Role  Jesse Eisenberg   \n",
       "3  2010  Actor -- Leading Role      Colin Firth   \n",
       "4  2010  Actor -- Leading Role     James Franco   \n",
       "\n",
       "                          Additional Info Won?                Movie  \\\n",
       "0                      Biutiful {'Uxbal'}   NO            Biutiful    \n",
       "1           True Grit {'Rooster Cogburn'}   NO           True Grit    \n",
       "2  The Social Network {'Mark Zuckerberg'}   NO  The Social Network    \n",
       "3    The King's Speech {'King George VI'}  YES   The King's Speech    \n",
       "4              127 Hours {'Aron Ralston'}   NO           127 Hours    \n",
       "\n",
       "         Character  \n",
       "0            Uxbal  \n",
       "1  Rooster Cogburn  \n",
       "2  Mark Zuckerberg  \n",
       "3   King George VI  \n",
       "4     Aron Ralston  "
      ]
     },
     "execution_count": 23,
     "metadata": {},
     "output_type": "execute_result"
    }
   ],
   "source": [
    "df.head()"
   ]
  },
  {
   "cell_type": "markdown",
   "metadata": {},
   "source": [
    "### We only need the data after the year 2000."
   ]
  },
  {
   "cell_type": "code",
   "execution_count": 24,
   "metadata": {
    "collapsed": true
   },
   "outputs": [],
   "source": [
    "later_than_2000 = df[df['Year'] > 2000]"
   ]
  },
  {
   "cell_type": "code",
   "execution_count": 25,
   "metadata": {
    "collapsed": false
   },
   "outputs": [
    {
     "data": {
      "text/html": [
       "<div>\n",
       "<table border=\"1\" class=\"dataframe\">\n",
       "  <thead>\n",
       "    <tr style=\"text-align: right;\">\n",
       "      <th></th>\n",
       "      <th>Year</th>\n",
       "      <th>Category</th>\n",
       "      <th>Nominee</th>\n",
       "      <th>Additional Info</th>\n",
       "      <th>Won?</th>\n",
       "      <th>Movie</th>\n",
       "      <th>Character</th>\n",
       "    </tr>\n",
       "  </thead>\n",
       "  <tbody>\n",
       "    <tr>\n",
       "      <th>0</th>\n",
       "      <td>2010</td>\n",
       "      <td>Actor -- Leading Role</td>\n",
       "      <td>Javier Bardem</td>\n",
       "      <td>Biutiful {'Uxbal'}</td>\n",
       "      <td>NO</td>\n",
       "      <td>Biutiful</td>\n",
       "      <td>Uxbal</td>\n",
       "    </tr>\n",
       "    <tr>\n",
       "      <th>1</th>\n",
       "      <td>2010</td>\n",
       "      <td>Actor -- Leading Role</td>\n",
       "      <td>Jeff Bridges</td>\n",
       "      <td>True Grit {'Rooster Cogburn'}</td>\n",
       "      <td>NO</td>\n",
       "      <td>True Grit</td>\n",
       "      <td>Rooster Cogburn</td>\n",
       "    </tr>\n",
       "    <tr>\n",
       "      <th>2</th>\n",
       "      <td>2010</td>\n",
       "      <td>Actor -- Leading Role</td>\n",
       "      <td>Jesse Eisenberg</td>\n",
       "      <td>The Social Network {'Mark Zuckerberg'}</td>\n",
       "      <td>NO</td>\n",
       "      <td>The Social Network</td>\n",
       "      <td>Mark Zuckerberg</td>\n",
       "    </tr>\n",
       "    <tr>\n",
       "      <th>3</th>\n",
       "      <td>2010</td>\n",
       "      <td>Actor -- Leading Role</td>\n",
       "      <td>Colin Firth</td>\n",
       "      <td>The King's Speech {'King George VI'}</td>\n",
       "      <td>YES</td>\n",
       "      <td>The King's Speech</td>\n",
       "      <td>King George VI</td>\n",
       "    </tr>\n",
       "    <tr>\n",
       "      <th>4</th>\n",
       "      <td>2010</td>\n",
       "      <td>Actor -- Leading Role</td>\n",
       "      <td>James Franco</td>\n",
       "      <td>127 Hours {'Aron Ralston'}</td>\n",
       "      <td>NO</td>\n",
       "      <td>127 Hours</td>\n",
       "      <td>Aron Ralston</td>\n",
       "    </tr>\n",
       "  </tbody>\n",
       "</table>\n",
       "</div>"
      ],
      "text/plain": [
       "   Year               Category          Nominee  \\\n",
       "0  2010  Actor -- Leading Role    Javier Bardem   \n",
       "1  2010  Actor -- Leading Role     Jeff Bridges   \n",
       "2  2010  Actor -- Leading Role  Jesse Eisenberg   \n",
       "3  2010  Actor -- Leading Role      Colin Firth   \n",
       "4  2010  Actor -- Leading Role     James Franco   \n",
       "\n",
       "                          Additional Info Won?                Movie  \\\n",
       "0                      Biutiful {'Uxbal'}   NO            Biutiful    \n",
       "1           True Grit {'Rooster Cogburn'}   NO           True Grit    \n",
       "2  The Social Network {'Mark Zuckerberg'}   NO  The Social Network    \n",
       "3    The King's Speech {'King George VI'}  YES   The King's Speech    \n",
       "4              127 Hours {'Aron Ralston'}   NO           127 Hours    \n",
       "\n",
       "         Character  \n",
       "0            Uxbal  \n",
       "1  Rooster Cogburn  \n",
       "2  Mark Zuckerberg  \n",
       "3   King George VI  \n",
       "4     Aron Ralston  "
      ]
     },
     "execution_count": 25,
     "metadata": {},
     "output_type": "execute_result"
    }
   ],
   "source": [
    "later_than_2000.head()"
   ]
  },
  {
   "cell_type": "markdown",
   "metadata": {},
   "source": [
    "### There are many different types of `Category`, we only interest in four awards."
   ]
  },
  {
   "cell_type": "code",
   "execution_count": 26,
   "metadata": {
    "collapsed": false,
    "scrolled": true
   },
   "outputs": [
    {
     "data": {
      "text/plain": [
       "Writing                                                        100\n",
       "Scientific and Technical (Technical Achievement Award)          70\n",
       "Best Picture                                                    60\n",
       "Foreign Language Film                                           50\n",
       "Short Film (Live Action)                                        50\n",
       "Music (Scoring)                                                 50\n",
       "Actress -- Leading Role                                         50\n",
       "Directing                                                       50\n",
       "Cinematography                                                  50\n",
       "Costume Design                                                  50\n",
       "Short Film (Animated)                                           50\n",
       "Actor -- Supporting Role                                        50\n",
       "Actor -- Leading Role                                           50\n",
       "Film Editing                                                    50\n",
       "Sound                                                           50\n",
       "Art Direction                                                   50\n",
       "Documentary (Feature)                                           50\n",
       "Actress -- Supporting Role                                      50\n",
       "Scientific and Technical (Scientific and Engineering Award)     46\n",
       "Music (Song)                                                    45\n",
       "Documentary (Short Subject)                                     41\n",
       "Sound Editing                                                   39\n",
       "Animated Feature Film                                           34\n",
       "Visual Effects                                                  32\n",
       "Makeup                                                          29\n",
       "Honorary Award                                                  14\n",
       "Scientific and Technical (Bonner Medal)                          9\n",
       "Scientific and Technical (Academy Award of Merit)                7\n",
       "Scientific and Technical (Gordon E. Sawyer Award)                7\n",
       "Scientific and Technical (Special Awards)                        5\n",
       "Jean Hersholt Humanitarian Award                                 4\n",
       "Irving G. Thalberg Memorial Award                                2\n",
       "Name: Category, dtype: int64"
      ]
     },
     "execution_count": 26,
     "metadata": {},
     "output_type": "execute_result"
    }
   ],
   "source": [
    "later_than_2000['Category'].value_counts()"
   ]
  },
  {
   "cell_type": "code",
   "execution_count": 27,
   "metadata": {
    "collapsed": true
   },
   "outputs": [],
   "source": [
    "award_categories = ['Actor -- Leading Role', 'Actor -- Supporting Role', 'Actress -- Leading Role', 'Actress -- Supporting Role']"
   ]
  },
  {
   "cell_type": "code",
   "execution_count": 28,
   "metadata": {
    "collapsed": true
   },
   "outputs": [],
   "source": [
    "nominations = later_than_2000[later_than_2000['Category'].isin(award_categories)]"
   ]
  },
  {
   "cell_type": "code",
   "execution_count": 29,
   "metadata": {
    "collapsed": false
   },
   "outputs": [
    {
     "data": {
      "text/html": [
       "<div>\n",
       "<table border=\"1\" class=\"dataframe\">\n",
       "  <thead>\n",
       "    <tr style=\"text-align: right;\">\n",
       "      <th></th>\n",
       "      <th>Year</th>\n",
       "      <th>Category</th>\n",
       "      <th>Nominee</th>\n",
       "      <th>Additional Info</th>\n",
       "      <th>Won?</th>\n",
       "      <th>Movie</th>\n",
       "      <th>Character</th>\n",
       "    </tr>\n",
       "  </thead>\n",
       "  <tbody>\n",
       "    <tr>\n",
       "      <th>0</th>\n",
       "      <td>2010</td>\n",
       "      <td>Actor -- Leading Role</td>\n",
       "      <td>Javier Bardem</td>\n",
       "      <td>Biutiful {'Uxbal'}</td>\n",
       "      <td>NO</td>\n",
       "      <td>Biutiful</td>\n",
       "      <td>Uxbal</td>\n",
       "    </tr>\n",
       "    <tr>\n",
       "      <th>1</th>\n",
       "      <td>2010</td>\n",
       "      <td>Actor -- Leading Role</td>\n",
       "      <td>Jeff Bridges</td>\n",
       "      <td>True Grit {'Rooster Cogburn'}</td>\n",
       "      <td>NO</td>\n",
       "      <td>True Grit</td>\n",
       "      <td>Rooster Cogburn</td>\n",
       "    </tr>\n",
       "    <tr>\n",
       "      <th>2</th>\n",
       "      <td>2010</td>\n",
       "      <td>Actor -- Leading Role</td>\n",
       "      <td>Jesse Eisenberg</td>\n",
       "      <td>The Social Network {'Mark Zuckerberg'}</td>\n",
       "      <td>NO</td>\n",
       "      <td>The Social Network</td>\n",
       "      <td>Mark Zuckerberg</td>\n",
       "    </tr>\n",
       "    <tr>\n",
       "      <th>3</th>\n",
       "      <td>2010</td>\n",
       "      <td>Actor -- Leading Role</td>\n",
       "      <td>Colin Firth</td>\n",
       "      <td>The King's Speech {'King George VI'}</td>\n",
       "      <td>YES</td>\n",
       "      <td>The King's Speech</td>\n",
       "      <td>King George VI</td>\n",
       "    </tr>\n",
       "    <tr>\n",
       "      <th>4</th>\n",
       "      <td>2010</td>\n",
       "      <td>Actor -- Leading Role</td>\n",
       "      <td>James Franco</td>\n",
       "      <td>127 Hours {'Aron Ralston'}</td>\n",
       "      <td>NO</td>\n",
       "      <td>127 Hours</td>\n",
       "      <td>Aron Ralston</td>\n",
       "    </tr>\n",
       "  </tbody>\n",
       "</table>\n",
       "</div>"
      ],
      "text/plain": [
       "   Year               Category          Nominee  \\\n",
       "0  2010  Actor -- Leading Role    Javier Bardem   \n",
       "1  2010  Actor -- Leading Role     Jeff Bridges   \n",
       "2  2010  Actor -- Leading Role  Jesse Eisenberg   \n",
       "3  2010  Actor -- Leading Role      Colin Firth   \n",
       "4  2010  Actor -- Leading Role     James Franco   \n",
       "\n",
       "                          Additional Info Won?                Movie  \\\n",
       "0                      Biutiful {'Uxbal'}   NO            Biutiful    \n",
       "1           True Grit {'Rooster Cogburn'}   NO           True Grit    \n",
       "2  The Social Network {'Mark Zuckerberg'}   NO  The Social Network    \n",
       "3    The King's Speech {'King George VI'}  YES   The King's Speech    \n",
       "4              127 Hours {'Aron Ralston'}   NO           127 Hours    \n",
       "\n",
       "         Character  \n",
       "0            Uxbal  \n",
       "1  Rooster Cogburn  \n",
       "2  Mark Zuckerberg  \n",
       "3   King George VI  \n",
       "4     Aron Ralston  "
      ]
     },
     "execution_count": 29,
     "metadata": {},
     "output_type": "execute_result"
    }
   ],
   "source": [
    "nominations.head()"
   ]
  },
  {
   "cell_type": "markdown",
   "metadata": {},
   "source": [
    "### Cleaning up the `Won` column. Converting `YES` to `1`, `NO` to `0`."
   ]
  },
  {
   "cell_type": "code",
   "execution_count": 30,
   "metadata": {
    "collapsed": false
   },
   "outputs": [
    {
     "name": "stderr",
     "output_type": "stream",
     "text": [
      "/Users/yuzezou/anaconda/lib/python3.5/site-packages/ipykernel/__main__.py:1: SettingWithCopyWarning: \n",
      "A value is trying to be set on a copy of a slice from a DataFrame.\n",
      "Try using .loc[row_indexer,col_indexer] = value instead\n",
      "\n",
      "See the caveats in the documentation: http://pandas.pydata.org/pandas-docs/stable/indexing.html#indexing-view-versus-copy\n",
      "  if __name__ == '__main__':\n"
     ]
    }
   ],
   "source": [
    "nominations['Won?'] = nominations['Won?'].map({'YES': 1, 'NO': 0})"
   ]
  },
  {
   "cell_type": "code",
   "execution_count": 31,
   "metadata": {
    "collapsed": false,
    "scrolled": true
   },
   "outputs": [
    {
     "data": {
      "text/html": [
       "<div>\n",
       "<table border=\"1\" class=\"dataframe\">\n",
       "  <thead>\n",
       "    <tr style=\"text-align: right;\">\n",
       "      <th></th>\n",
       "      <th>Year</th>\n",
       "      <th>Category</th>\n",
       "      <th>Nominee</th>\n",
       "      <th>Additional Info</th>\n",
       "      <th>Won?</th>\n",
       "      <th>Movie</th>\n",
       "      <th>Character</th>\n",
       "    </tr>\n",
       "  </thead>\n",
       "  <tbody>\n",
       "    <tr>\n",
       "      <th>0</th>\n",
       "      <td>2010</td>\n",
       "      <td>Actor -- Leading Role</td>\n",
       "      <td>Javier Bardem</td>\n",
       "      <td>Biutiful {'Uxbal'}</td>\n",
       "      <td>0</td>\n",
       "      <td>Biutiful</td>\n",
       "      <td>Uxbal</td>\n",
       "    </tr>\n",
       "    <tr>\n",
       "      <th>1</th>\n",
       "      <td>2010</td>\n",
       "      <td>Actor -- Leading Role</td>\n",
       "      <td>Jeff Bridges</td>\n",
       "      <td>True Grit {'Rooster Cogburn'}</td>\n",
       "      <td>0</td>\n",
       "      <td>True Grit</td>\n",
       "      <td>Rooster Cogburn</td>\n",
       "    </tr>\n",
       "    <tr>\n",
       "      <th>2</th>\n",
       "      <td>2010</td>\n",
       "      <td>Actor -- Leading Role</td>\n",
       "      <td>Jesse Eisenberg</td>\n",
       "      <td>The Social Network {'Mark Zuckerberg'}</td>\n",
       "      <td>0</td>\n",
       "      <td>The Social Network</td>\n",
       "      <td>Mark Zuckerberg</td>\n",
       "    </tr>\n",
       "    <tr>\n",
       "      <th>3</th>\n",
       "      <td>2010</td>\n",
       "      <td>Actor -- Leading Role</td>\n",
       "      <td>Colin Firth</td>\n",
       "      <td>The King's Speech {'King George VI'}</td>\n",
       "      <td>1</td>\n",
       "      <td>The King's Speech</td>\n",
       "      <td>King George VI</td>\n",
       "    </tr>\n",
       "    <tr>\n",
       "      <th>4</th>\n",
       "      <td>2010</td>\n",
       "      <td>Actor -- Leading Role</td>\n",
       "      <td>James Franco</td>\n",
       "      <td>127 Hours {'Aron Ralston'}</td>\n",
       "      <td>0</td>\n",
       "      <td>127 Hours</td>\n",
       "      <td>Aron Ralston</td>\n",
       "    </tr>\n",
       "  </tbody>\n",
       "</table>\n",
       "</div>"
      ],
      "text/plain": [
       "   Year               Category          Nominee  \\\n",
       "0  2010  Actor -- Leading Role    Javier Bardem   \n",
       "1  2010  Actor -- Leading Role     Jeff Bridges   \n",
       "2  2010  Actor -- Leading Role  Jesse Eisenberg   \n",
       "3  2010  Actor -- Leading Role      Colin Firth   \n",
       "4  2010  Actor -- Leading Role     James Franco   \n",
       "\n",
       "                          Additional Info  Won?                Movie  \\\n",
       "0                      Biutiful {'Uxbal'}     0            Biutiful    \n",
       "1           True Grit {'Rooster Cogburn'}     0           True Grit    \n",
       "2  The Social Network {'Mark Zuckerberg'}     0  The Social Network    \n",
       "3    The King's Speech {'King George VI'}     1   The King's Speech    \n",
       "4              127 Hours {'Aron Ralston'}     0           127 Hours    \n",
       "\n",
       "         Character  \n",
       "0            Uxbal  \n",
       "1  Rooster Cogburn  \n",
       "2  Mark Zuckerberg  \n",
       "3   King George VI  \n",
       "4     Aron Ralston  "
      ]
     },
     "execution_count": 31,
     "metadata": {},
     "output_type": "execute_result"
    }
   ],
   "source": [
    "nominations.head()"
   ]
  },
  {
   "cell_type": "markdown",
   "metadata": {},
   "source": [
    "### Sorting rows by `Year`."
   ]
  },
  {
   "cell_type": "code",
   "execution_count": 32,
   "metadata": {
    "collapsed": true
   },
   "outputs": [],
   "source": [
    "nominations = nominations.sort_values(by='Year')"
   ]
  },
  {
   "cell_type": "code",
   "execution_count": 33,
   "metadata": {
    "collapsed": false
   },
   "outputs": [
    {
     "data": {
      "text/html": [
       "<div>\n",
       "<table border=\"1\" class=\"dataframe\">\n",
       "  <thead>\n",
       "    <tr style=\"text-align: right;\">\n",
       "      <th></th>\n",
       "      <th>Year</th>\n",
       "      <th>Category</th>\n",
       "      <th>Nominee</th>\n",
       "      <th>Additional Info</th>\n",
       "      <th>Won?</th>\n",
       "      <th>Movie</th>\n",
       "      <th>Character</th>\n",
       "    </tr>\n",
       "  </thead>\n",
       "  <tbody>\n",
       "    <tr>\n",
       "      <th>1176</th>\n",
       "      <td>2001</td>\n",
       "      <td>Actress -- Supporting Role</td>\n",
       "      <td>Kate Winslet</td>\n",
       "      <td>Iris {'Young Iris Murdoch'}</td>\n",
       "      <td>0</td>\n",
       "      <td>Iris</td>\n",
       "      <td>Young Iris Murdoch</td>\n",
       "    </tr>\n",
       "    <tr>\n",
       "      <th>1157</th>\n",
       "      <td>2001</td>\n",
       "      <td>Actor -- Leading Role</td>\n",
       "      <td>Russell Crowe</td>\n",
       "      <td>A Beautiful Mind {'John Nash'}</td>\n",
       "      <td>0</td>\n",
       "      <td>A Beautiful Mind</td>\n",
       "      <td>John Nash</td>\n",
       "    </tr>\n",
       "    <tr>\n",
       "      <th>1158</th>\n",
       "      <td>2001</td>\n",
       "      <td>Actor -- Leading Role</td>\n",
       "      <td>Sean Penn</td>\n",
       "      <td>I Am Sam {'Sam Dawson'}</td>\n",
       "      <td>0</td>\n",
       "      <td>I Am Sam</td>\n",
       "      <td>Sam Dawson</td>\n",
       "    </tr>\n",
       "    <tr>\n",
       "      <th>1159</th>\n",
       "      <td>2001</td>\n",
       "      <td>Actor -- Leading Role</td>\n",
       "      <td>Will Smith</td>\n",
       "      <td>Ali {'Muhammad Ali'}</td>\n",
       "      <td>0</td>\n",
       "      <td>Ali</td>\n",
       "      <td>Muhammad Ali</td>\n",
       "    </tr>\n",
       "    <tr>\n",
       "      <th>1160</th>\n",
       "      <td>2001</td>\n",
       "      <td>Actor -- Leading Role</td>\n",
       "      <td>Denzel Washington</td>\n",
       "      <td>Training Day {'Alonzo'}</td>\n",
       "      <td>1</td>\n",
       "      <td>Training Day</td>\n",
       "      <td>Alonzo</td>\n",
       "    </tr>\n",
       "  </tbody>\n",
       "</table>\n",
       "</div>"
      ],
      "text/plain": [
       "      Year                    Category            Nominee  \\\n",
       "1176  2001  Actress -- Supporting Role       Kate Winslet   \n",
       "1157  2001       Actor -- Leading Role      Russell Crowe   \n",
       "1158  2001       Actor -- Leading Role          Sean Penn   \n",
       "1159  2001       Actor -- Leading Role         Will Smith   \n",
       "1160  2001       Actor -- Leading Role  Denzel Washington   \n",
       "\n",
       "                     Additional Info  Won?              Movie  \\\n",
       "1176     Iris {'Young Iris Murdoch'}     0              Iris    \n",
       "1157  A Beautiful Mind {'John Nash'}     0  A Beautiful Mind    \n",
       "1158         I Am Sam {'Sam Dawson'}     0          I Am Sam    \n",
       "1159            Ali {'Muhammad Ali'}     0               Ali    \n",
       "1160         Training Day {'Alonzo'}     1      Training Day    \n",
       "\n",
       "               Character  \n",
       "1176  Young Iris Murdoch  \n",
       "1157           John Nash  \n",
       "1158          Sam Dawson  \n",
       "1159        Muhammad Ali  \n",
       "1160              Alonzo  "
      ]
     },
     "execution_count": 33,
     "metadata": {},
     "output_type": "execute_result"
    }
   ],
   "source": [
    "nominations.head()"
   ]
  },
  {
   "cell_type": "markdown",
   "metadata": {},
   "source": [
    "### Renaming `Won?` to `Won`"
   ]
  },
  {
   "cell_type": "code",
   "execution_count": 34,
   "metadata": {
    "collapsed": true
   },
   "outputs": [],
   "source": [
    "nominations = nominations.rename(columns={'Won?': 'Won'})"
   ]
  },
  {
   "cell_type": "code",
   "execution_count": 35,
   "metadata": {
    "collapsed": false
   },
   "outputs": [],
   "source": [
    "final_nominations = nominations.drop('Additional Info', axis=1)"
   ]
  },
  {
   "cell_type": "code",
   "execution_count": 36,
   "metadata": {
    "collapsed": true
   },
   "outputs": [],
   "source": [
    "final_nominations = final_nominations.reset_index(drop=True)"
   ]
  },
  {
   "cell_type": "code",
   "execution_count": 37,
   "metadata": {
    "collapsed": false,
    "scrolled": true
   },
   "outputs": [
    {
     "data": {
      "text/html": [
       "<div>\n",
       "<table border=\"1\" class=\"dataframe\">\n",
       "  <thead>\n",
       "    <tr style=\"text-align: right;\">\n",
       "      <th></th>\n",
       "      <th>Year</th>\n",
       "      <th>Category</th>\n",
       "      <th>Nominee</th>\n",
       "      <th>Won</th>\n",
       "      <th>Movie</th>\n",
       "      <th>Character</th>\n",
       "    </tr>\n",
       "  </thead>\n",
       "  <tbody>\n",
       "    <tr>\n",
       "      <th>0</th>\n",
       "      <td>2001</td>\n",
       "      <td>Actress -- Supporting Role</td>\n",
       "      <td>Kate Winslet</td>\n",
       "      <td>0</td>\n",
       "      <td>Iris</td>\n",
       "      <td>Young Iris Murdoch</td>\n",
       "    </tr>\n",
       "    <tr>\n",
       "      <th>1</th>\n",
       "      <td>2001</td>\n",
       "      <td>Actor -- Leading Role</td>\n",
       "      <td>Russell Crowe</td>\n",
       "      <td>0</td>\n",
       "      <td>A Beautiful Mind</td>\n",
       "      <td>John Nash</td>\n",
       "    </tr>\n",
       "    <tr>\n",
       "      <th>2</th>\n",
       "      <td>2001</td>\n",
       "      <td>Actor -- Leading Role</td>\n",
       "      <td>Sean Penn</td>\n",
       "      <td>0</td>\n",
       "      <td>I Am Sam</td>\n",
       "      <td>Sam Dawson</td>\n",
       "    </tr>\n",
       "    <tr>\n",
       "      <th>3</th>\n",
       "      <td>2001</td>\n",
       "      <td>Actor -- Leading Role</td>\n",
       "      <td>Will Smith</td>\n",
       "      <td>0</td>\n",
       "      <td>Ali</td>\n",
       "      <td>Muhammad Ali</td>\n",
       "    </tr>\n",
       "    <tr>\n",
       "      <th>4</th>\n",
       "      <td>2001</td>\n",
       "      <td>Actor -- Leading Role</td>\n",
       "      <td>Denzel Washington</td>\n",
       "      <td>1</td>\n",
       "      <td>Training Day</td>\n",
       "      <td>Alonzo</td>\n",
       "    </tr>\n",
       "  </tbody>\n",
       "</table>\n",
       "</div>"
      ],
      "text/plain": [
       "   Year                    Category            Nominee  Won  \\\n",
       "0  2001  Actress -- Supporting Role       Kate Winslet    0   \n",
       "1  2001       Actor -- Leading Role      Russell Crowe    0   \n",
       "2  2001       Actor -- Leading Role          Sean Penn    0   \n",
       "3  2001       Actor -- Leading Role         Will Smith    0   \n",
       "4  2001       Actor -- Leading Role  Denzel Washington    1   \n",
       "\n",
       "               Movie           Character  \n",
       "0              Iris   Young Iris Murdoch  \n",
       "1  A Beautiful Mind            John Nash  \n",
       "2          I Am Sam           Sam Dawson  \n",
       "3               Ali         Muhammad Ali  \n",
       "4      Training Day               Alonzo  "
      ]
     },
     "execution_count": 37,
     "metadata": {},
     "output_type": "execute_result"
    }
   ],
   "source": [
    "final_nominations.head()"
   ]
  },
  {
   "cell_type": "code",
   "execution_count": 38,
   "metadata": {
    "collapsed": false
   },
   "outputs": [
    {
     "data": {
      "text/plain": [
       "Year          int64\n",
       "Category     object\n",
       "Nominee      object\n",
       "Won           int64\n",
       "Movie        object\n",
       "Character    object\n",
       "dtype: object"
      ]
     },
     "execution_count": 38,
     "metadata": {},
     "output_type": "execute_result"
    }
   ],
   "source": [
    "final_nominations.dtypes"
   ]
  },
  {
   "cell_type": "markdown",
   "metadata": {
    "collapsed": true
   },
   "source": [
    "# Exporting Pandas DataFrame to SQLite3 table."
   ]
  },
  {
   "cell_type": "markdown",
   "metadata": {},
   "source": [
    "### Deleting the file if the file name exist."
   ]
  },
  {
   "cell_type": "code",
   "execution_count": 39,
   "metadata": {
    "collapsed": true
   },
   "outputs": [],
   "source": [
    "!rm -rf nominations.db"
   ]
  },
  {
   "cell_type": "code",
   "execution_count": 40,
   "metadata": {
    "collapsed": false
   },
   "outputs": [],
   "source": [
    "conn = sqlite3.connect('nominations.db')\n",
    "\n",
    "final_nominations.to_sql(name='nominations', con=conn, index=False)"
   ]
  },
  {
   "cell_type": "code",
   "execution_count": 41,
   "metadata": {
    "collapsed": false
   },
   "outputs": [
    {
     "name": "stdout",
     "output_type": "stream",
     "text": [
      "nominations.db\r\n"
     ]
    }
   ],
   "source": [
    "!ls nominations.db"
   ]
  },
  {
   "cell_type": "markdown",
   "metadata": {},
   "source": [
    "### Printing `nominations` schema."
   ]
  },
  {
   "cell_type": "code",
   "execution_count": 42,
   "metadata": {
    "collapsed": false
   },
   "outputs": [
    {
     "data": {
      "text/plain": [
       "[(0, 'Year', 'INTEGER', 0, None, 0),\n",
       " (1, 'Category', 'TEXT', 0, None, 0),\n",
       " (2, 'Nominee', 'TEXT', 0, None, 0),\n",
       " (3, 'Won', 'INTEGER', 0, None, 0),\n",
       " (4, 'Movie', 'TEXT', 0, None, 0),\n",
       " (5, 'Character', 'TEXT', 0, None, 0)]"
      ]
     },
     "execution_count": 42,
     "metadata": {},
     "output_type": "execute_result"
    }
   ],
   "source": [
    "schema = conn.execute('pragma table_info(nominations)').fetchall()\n",
    "schema"
   ]
  },
  {
   "cell_type": "markdown",
   "metadata": {},
   "source": [
    "### Showing some data."
   ]
  },
  {
   "cell_type": "code",
   "execution_count": 43,
   "metadata": {
    "collapsed": false
   },
   "outputs": [
    {
     "name": "stdout",
     "output_type": "stream",
     "text": [
      "|   Year  |   Category  |   Nominee  |   Won  |   Movie  |   Character  |\n",
      "(2001, 'Actress -- Supporting Role', 'Kate Winslet', 0, 'Iris ', 'Young Iris Murdoch')\n",
      "(2001, 'Actor -- Leading Role', 'Russell Crowe', 0, 'A Beautiful Mind ', 'John Nash')\n",
      "(2001, 'Actor -- Leading Role', 'Sean Penn', 0, 'I Am Sam ', 'Sam Dawson')\n",
      "(2001, 'Actor -- Leading Role', 'Will Smith', 0, 'Ali ', 'Muhammad Ali')\n",
      "(2001, 'Actor -- Leading Role', 'Denzel Washington', 1, 'Training Day ', 'Alonzo')\n",
      "(2001, 'Actor -- Leading Role', 'Tom Wilkinson', 0, 'In the Bedroom ', 'Matt Fowler')\n",
      "(2001, 'Actor -- Supporting Role', 'Jim Broadbent', 1, 'Iris ', 'John Bayley')\n",
      "(2001, 'Actor -- Supporting Role', 'Ethan Hawke', 0, 'Training Day ', 'Jake')\n",
      "(2001, 'Actor -- Supporting Role', 'Ben Kingsley', 0, 'Sexy Beast ', 'Don Logan')\n",
      "(2001, 'Actor -- Supporting Role', 'Ian McKellen', 0, 'The Lord of the Rings: The Fellowship of the Ring ', 'Gandalf')\n"
     ]
    }
   ],
   "source": [
    "first_ten = conn.execute('select * from nominations limit 10;').fetchall()\n",
    "first_ten = conn.execute('select * from nominations limit 10;').fetchall()\n",
    "for s in schema:\n",
    "    print('|  ', s[1], ' ',end='')\n",
    "print('|')\n",
    "for li in first_ten:\n",
    "    print(li)"
   ]
  },
  {
   "cell_type": "markdown",
   "metadata": {},
   "source": [
    "# Creating tables."
   ]
  },
  {
   "cell_type": "markdown",
   "metadata": {
    "collapsed": true
   },
   "source": [
    "## Creating `ceremonies` table."
   ]
  },
  {
   "cell_type": "code",
   "execution_count": 44,
   "metadata": {
    "collapsed": true
   },
   "outputs": [],
   "source": [
    "cere_schema = conn.execute('pragma table_info(ceremonies)').fetchall()\n",
    "if len(cere_schema) == 0:\n",
    "    sql = 'create table ceremonies( \\\n",
    "        id integer primary key, \\\n",
    "        Year integer, \\\n",
    "        Host text \\\n",
    "        )'\n",
    "    conn.execute(sql)\n",
    "    \n",
    "    # Creating a list for each awards ceremony.\n",
    "    years_hosts = [(2010, \"Steve Martin\"),\n",
    "               (2009, \"Hugh Jackman\"),\n",
    "               (2008, \"Jon Stewart\"),\n",
    "               (2007, \"Ellen DeGeneres\"),\n",
    "               (2006, \"Jon Stewart\"),\n",
    "               (2005, \"Chris Rock\"),\n",
    "               (2004, \"Billy Crystal\"),\n",
    "               (2003, \"Steve Martin\"),\n",
    "               (2002, \"Whoopi Goldberg\"),\n",
    "               (2001, \"Steve Martin\"),\n",
    "               (2000, \"Billy Crystal\"),\n",
    "            ]\n",
    "\n",
    "    conn.executemany('insert into ceremonies (Year, Host) values(?, ?)', years_hosts)"
   ]
  },
  {
   "cell_type": "markdown",
   "metadata": {},
   "source": [
    "### Validating results."
   ]
  },
  {
   "cell_type": "code",
   "execution_count": 45,
   "metadata": {
    "collapsed": false
   },
   "outputs": [
    {
     "data": {
      "text/plain": [
       "[(0, 'id', 'integer', 0, None, 1),\n",
       " (1, 'Year', 'integer', 0, None, 0),\n",
       " (2, 'Host', 'text', 0, None, 0)]"
      ]
     },
     "execution_count": 45,
     "metadata": {},
     "output_type": "execute_result"
    }
   ],
   "source": [
    "conn.execute('pragma table_info(ceremonies)').fetchall()"
   ]
  },
  {
   "cell_type": "code",
   "execution_count": 46,
   "metadata": {
    "collapsed": false
   },
   "outputs": [
    {
     "data": {
      "text/plain": [
       "[(1, 2010, 'Steve Martin'),\n",
       " (2, 2009, 'Hugh Jackman'),\n",
       " (3, 2008, 'Jon Stewart'),\n",
       " (4, 2007, 'Ellen DeGeneres'),\n",
       " (5, 2006, 'Jon Stewart'),\n",
       " (6, 2005, 'Chris Rock'),\n",
       " (7, 2004, 'Billy Crystal'),\n",
       " (8, 2003, 'Steve Martin'),\n",
       " (9, 2002, 'Whoopi Goldberg'),\n",
       " (10, 2001, 'Steve Martin'),\n",
       " (11, 2000, 'Billy Crystal')]"
      ]
     },
     "execution_count": 46,
     "metadata": {},
     "output_type": "execute_result"
    }
   ],
   "source": [
    "conn.execute('select * from ceremonies').fetchall()"
   ]
  },
  {
   "cell_type": "markdown",
   "metadata": {},
   "source": [
    "### Turn on foreign key constraints."
   ]
  },
  {
   "cell_type": "code",
   "execution_count": 47,
   "metadata": {
    "collapsed": false
   },
   "outputs": [
    {
     "data": {
      "text/plain": [
       "<sqlite3.Cursor at 0x1131ca570>"
      ]
     },
     "execution_count": 47,
     "metadata": {},
     "output_type": "execute_result"
    }
   ],
   "source": [
    "conn.execute('pragma foreign_keys = ON;')"
   ]
  },
  {
   "cell_type": "markdown",
   "metadata": {},
   "source": [
    "## Changing `nominations` table."
   ]
  },
  {
   "cell_type": "markdown",
   "metadata": {},
   "source": [
    "### Creating `nominations_two` table."
   ]
  },
  {
   "cell_type": "code",
   "execution_count": 48,
   "metadata": {
    "collapsed": true
   },
   "outputs": [],
   "source": [
    "nom_schema = conn.execute('pragma table_info(nominations_two)').fetchall()\n",
    "if len(nom_schema) == 0:\n",
    "    sql = 'create table nominations_two( \\\n",
    "            id integer primary key, \\\n",
    "            category text, \\\n",
    "            nominee text, \\\n",
    "            movie text, \\\n",
    "            character text, \\\n",
    "            won text, \\\n",
    "            ceremony_id integer, \\\n",
    "            foreign key(ceremony_id) references ceremonies(id));'\n",
    "    conn.execute(sql)\n",
    "\n",
    "    # insert values\n",
    "    sql = 'insert into nominations_two(category, nominee, movie, character, won, ceremony_id) \\\n",
    "            SELECT nominations.category, nominations.nominee, nominations.movie, nominations.character, nominations.won, ceremonies.id \\\n",
    "            FROM nominations \\\n",
    "            INNER JOIN ceremonies ON \\\n",
    "            nominations.year == ceremonies.year;'\n",
    "    conn.execute(sql)"
   ]
  },
  {
   "cell_type": "markdown",
   "metadata": {},
   "source": [
    "### Printing results."
   ]
  },
  {
   "cell_type": "code",
   "execution_count": 49,
   "metadata": {
    "collapsed": false
   },
   "outputs": [
    {
     "name": "stdout",
     "output_type": "stream",
     "text": [
      "(1, 'Actress -- Supporting Role', 'Kate Winslet', 'Iris ', 'Young Iris Murdoch', '0', 10)\n",
      "(2, 'Actor -- Leading Role', 'Russell Crowe', 'A Beautiful Mind ', 'John Nash', '0', 10)\n",
      "(3, 'Actor -- Leading Role', 'Sean Penn', 'I Am Sam ', 'Sam Dawson', '0', 10)\n",
      "(4, 'Actor -- Leading Role', 'Will Smith', 'Ali ', 'Muhammad Ali', '0', 10)\n",
      "(5, 'Actor -- Leading Role', 'Denzel Washington', 'Training Day ', 'Alonzo', '1', 10)\n"
     ]
    }
   ],
   "source": [
    "nominations_two = conn.execute('select * from nominations_two limit 5;').fetchall()\n",
    "for l in nominations_two:\n",
    "    print(l)"
   ]
  },
  {
   "cell_type": "markdown",
   "metadata": {},
   "source": [
    "### Deleting `nominations` table."
   ]
  },
  {
   "cell_type": "code",
   "execution_count": 50,
   "metadata": {
    "collapsed": false
   },
   "outputs": [
    {
     "data": {
      "text/plain": [
       "<sqlite3.Cursor at 0x1131ca7a0>"
      ]
     },
     "execution_count": 50,
     "metadata": {},
     "output_type": "execute_result"
    }
   ],
   "source": [
    "conn.execute('drop table nominations;')"
   ]
  },
  {
   "cell_type": "markdown",
   "metadata": {},
   "source": [
    "### Renaming table name."
   ]
  },
  {
   "cell_type": "code",
   "execution_count": 51,
   "metadata": {
    "collapsed": false
   },
   "outputs": [
    {
     "data": {
      "text/plain": [
       "<sqlite3.Cursor at 0x1131ca650>"
      ]
     },
     "execution_count": 51,
     "metadata": {},
     "output_type": "execute_result"
    }
   ],
   "source": [
    "conn.execute('alter table nominations_two rename to nominations;')"
   ]
  },
  {
   "cell_type": "markdown",
   "metadata": {},
   "source": [
    "## Creating `movies_actors` join tables"
   ]
  },
  {
   "cell_type": "code",
   "execution_count": 52,
   "metadata": {
    "collapsed": true
   },
   "outputs": [],
   "source": [
    "movies_actors_schema = conn.execute('pragma table_info(movies_actors);').fetchall()\n",
    "if len(movies_actors_schema) == 0:\n",
    "    # Creating `movies` table\n",
    "    sql = 'create table movies( \\\n",
    "            id integer primary key, \\\n",
    "            movie text)'\n",
    "    conn.execute(sql)\n",
    "    \n",
    "    # Creating `actors` table\n",
    "    sql = 'create table actors( \\\n",
    "            id integer primary key, \\\n",
    "            actor text);'\n",
    "    conn.execute(sql)\n",
    "    \n",
    "    # Creating `movies_actors` table\n",
    "    sql = 'create table movies_actors( \\\n",
    "            id integer primary key, \\\n",
    "            movie_id integer references movies(id), \\\n",
    "            actor_id integer references actors(id) \\\n",
    "            );'\n",
    "    conn.execute(sql)\n",
    "    \n",
    "    # Filling `movies`\n",
    "    sql = 'insert into movies (movie) \\\n",
    "            select distinct movie from nominations;'\n",
    "    conn.execute(sql)\n",
    "    \n",
    "    # Filling `actors`\n",
    "    sql = 'insert into actors (actor) \\\n",
    "            select distinct character from nominations;'\n",
    "    conn.execute(sql)\n",
    "    \n",
    "    # Filling `movies_actors`\n",
    "    sql = 'insert into movies_actors (movie_id, actor_id) \\\n",
    "            select movies.id, actors.id \\\n",
    "            from movies join nominations \\\n",
    "            on movies.movie = nominations.movie \\\n",
    "            join actors \\\n",
    "            on nominations.character = actors.actor;'\n",
    "    conn.execute(sql)"
   ]
  },
  {
   "cell_type": "code",
   "execution_count": 53,
   "metadata": {
    "collapsed": true
   },
   "outputs": [],
   "source": [
    "### Checking values."
   ]
  },
  {
   "cell_type": "code",
   "execution_count": 54,
   "metadata": {
    "collapsed": false
   },
   "outputs": [
    {
     "data": {
      "text/plain": [
       "[(1, 'Iris '),\n",
       " (2, 'A Beautiful Mind '),\n",
       " (3, 'I Am Sam '),\n",
       " (4, 'Ali '),\n",
       " (5, 'Training Day ')]"
      ]
     },
     "execution_count": 54,
     "metadata": {},
     "output_type": "execute_result"
    }
   ],
   "source": [
    "sql = 'select * from movies limit 5;'\n",
    "conn.execute(sql).fetchall()"
   ]
  },
  {
   "cell_type": "code",
   "execution_count": 55,
   "metadata": {
    "collapsed": false
   },
   "outputs": [
    {
     "data": {
      "text/plain": [
       "[(1, 'Young Iris Murdoch'),\n",
       " (2, 'John Nash'),\n",
       " (3, 'Sam Dawson'),\n",
       " (4, 'Muhammad Ali'),\n",
       " (5, 'Alonzo')]"
      ]
     },
     "execution_count": 55,
     "metadata": {},
     "output_type": "execute_result"
    }
   ],
   "source": [
    "sql = 'select * from actors limit 5;'\n",
    "conn.execute(sql).fetchall()"
   ]
  },
  {
   "cell_type": "code",
   "execution_count": 56,
   "metadata": {
    "collapsed": false
   },
   "outputs": [
    {
     "data": {
      "text/plain": [
       "[(1, 1, 19), (2, 1, 7), (3, 1, 1), (4, 2, 15), (5, 2, 2)]"
      ]
     },
     "execution_count": 56,
     "metadata": {},
     "output_type": "execute_result"
    }
   ],
   "source": [
    "sql = 'select * from movies_actors limit 5;'\n",
    "conn.execute(sql).fetchall()"
   ]
  },
  {
   "cell_type": "code",
   "execution_count": 57,
   "metadata": {
    "collapsed": true
   },
   "outputs": [],
   "source": [
    "conn.close()"
   ]
  },
  {
   "cell_type": "code",
   "execution_count": null,
   "metadata": {
    "collapsed": true
   },
   "outputs": [],
   "source": []
  }
 ],
 "metadata": {
  "anaconda-cloud": {},
  "kernelspec": {
   "display_name": "Python [default]",
   "language": "python",
   "name": "python3"
  },
  "language_info": {
   "codemirror_mode": {
    "name": "ipython",
    "version": 3
   },
   "file_extension": ".py",
   "mimetype": "text/x-python",
   "name": "python",
   "nbconvert_exporter": "python",
   "pygments_lexer": "ipython3",
   "version": "3.5.2"
  }
 },
 "nbformat": 4,
 "nbformat_minor": 0
}
